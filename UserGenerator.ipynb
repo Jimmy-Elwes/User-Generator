{
 "cells": [
  {
   "cell_type": "markdown",
   "id": "9eb5fee7-cc00-4360-bf86-449ee517199a",
   "metadata": {},
   "source": [
    "### This code is designed to create a user base for app and can be edited to adjust for app specific columns "
   ]
  },
  {
   "cell_type": "code",
   "execution_count": 23,
   "id": "2543e36b-06b9-4f26-8353-667a1e470457",
   "metadata": {},
   "outputs": [],
   "source": [
    "# Define extra fields dictionary\n",
    "# This where you set any non generic columns you need to add for your users\n",
    "# text generates random text and a list will generate a random choice from that list\n",
    "extra_fields = {\n",
    "    'short_bio': 'text',\n",
    "    'role': ['TaxPerson', 'Post Person','Fisherthem','Policeman Officer'],\n",
    "    'seeking': ['man', 'woman'],\n",
    "    'gender': ['man', 'woman'],\n",
    "    'friends': [['1']]\n",
    "}"
   ]
  },
  {
   "cell_type": "code",
   "execution_count": 27,
   "id": "bb258c1e-7ef6-4a1e-815b-dffe1f3a4751",
   "metadata": {},
   "outputs": [
    {
     "name": "stdout",
     "output_type": "stream",
     "text": [
      "Dummy user data has been written to dummy_users.csv\n"
     ]
    }
   ],
   "source": [
    "import csv\n",
    "import faker\n",
    "import random\n",
    "from datetime import datetime, timedelta\n",
    "\n",
    "# Create a Faker instance\n",
    "fake = faker.Faker()\n",
    "\n",
    "# Define the number of dummy users to generate\n",
    "num_users = 100\n",
    "\n",
    "# Define the header for the CSV file\n",
    "header = ['uid', 'display_name','created_time', 'email', 'password', 'age', 'phone_number']\n",
    "\n",
    "# Generate dummy user data\n",
    "dummy_users = []\n",
    "for i in range(1, num_users + 1):\n",
    "    uid = i\n",
    "    display_name = fake.name()\n",
    "    created_time = datetime.now() - timedelta(days=random.randint(0, 29))\n",
    "    email = fake.email()\n",
    "    password = fake.password()\n",
    "    age = fake.date_of_birth(minimum_age=18, maximum_age=80)\n",
    "    phone_number = fake.phone_number()\n",
    "    \n",
    "    # Generate values for extra fields\n",
    "    extra_field_values = []\n",
    "    for field, field_type in extra_fields.items():\n",
    "        if field_type == 'text':\n",
    "            value = fake.text()\n",
    "        elif field_type == 'int':\n",
    "            value = random.randint(1, 100)\n",
    "        elif isinstance(field_type, list):\n",
    "            value = random.choice(field_type)\n",
    "        else:\n",
    "            raise ValueError(f\"Unknown field type: {field_type}\")\n",
    "        \n",
    "        extra_field_values.append(value)\n",
    "    \n",
    "    # Combine all fields for the user\n",
    "    user_data = [uid, display_name, created_time, email, password, age, phone_number] + extra_field_values\n",
    "    \n",
    "    dummy_users.append(user_data)\n",
    "\n",
    "# Combine header with extra field names\n",
    "header += list(extra_fields.keys())\n",
    "\n",
    "# Write dummy user data to a CSV file\n",
    "csv_file = 'dummy_users.csv'\n",
    "with open(csv_file, 'w', newline='') as file:\n",
    "    writer = csv.writer(file)\n",
    "    writer.writerow(header)\n",
    "    writer.writerows(dummy_users)\n",
    "\n",
    "print(f\"Dummy user data has been written to {csv_file}\")\n"
   ]
  },
  {
   "cell_type": "code",
   "execution_count": null,
   "id": "ae3102e0-dec6-4956-8225-ec95f7f848bf",
   "metadata": {},
   "outputs": [],
   "source": []
  }
 ],
 "metadata": {
  "kernelspec": {
   "display_name": "Python 3 (ipykernel)",
   "language": "python",
   "name": "python3"
  },
  "language_info": {
   "codemirror_mode": {
    "name": "ipython",
    "version": 3
   },
   "file_extension": ".py",
   "mimetype": "text/x-python",
   "name": "python",
   "nbconvert_exporter": "python",
   "pygments_lexer": "ipython3",
   "version": "3.11.7"
  }
 },
 "nbformat": 4,
 "nbformat_minor": 5
}
